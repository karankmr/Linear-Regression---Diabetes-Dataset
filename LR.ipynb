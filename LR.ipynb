{
 "cells": [
  {
   "cell_type": "code",
   "execution_count": 1,
   "metadata": {},
   "outputs": [],
   "source": [
    "import numpy as np\n",
    "from sklearn.linear_model import LinearRegression"
   ]
  },
  {
   "cell_type": "code",
   "execution_count": 2,
   "metadata": {},
   "outputs": [],
   "source": [
    "dX = np.genfromtxt(\"C:\\\\Users\\\\karan\\\\Downloads\\\\0000000000002329_training_diabetes_x_y_train.csv\", delimiter = \",\", skip_header = 1, usecols = [0, 1, 2, 3, 4, 5, 6, 7, 8, 9])\n",
    "dY = np.genfromtxt(\"C:\\\\Users\\\\karan\\\\Downloads\\\\0000000000002329_training_diabetes_x_y_train.csv\", delimiter = \",\", skip_header = 1, usecols = [10])"
   ]
  },
  {
   "cell_type": "code",
   "execution_count": 12,
   "metadata": {},
   "outputs": [
    {
     "data": {
      "text/plain": [
       "array([[-0.04910502, -0.04464164,  0.16085492, ...,  0.03430886,\n",
       "         0.02801651,  0.01134862],\n",
       "       [-0.07090025,  0.05068012, -0.08919748, ..., -0.00259226,\n",
       "        -0.01290794, -0.05492509],\n",
       "       [ 0.00175052, -0.04464164, -0.07087468, ..., -0.03949338,\n",
       "        -0.02251217,  0.00720652],\n",
       "       ...,\n",
       "       [ 0.02354575, -0.04464164,  0.0703187 , ..., -0.00259226,\n",
       "        -0.01919705, -0.00936191],\n",
       "       [ 0.01628068,  0.05068012,  0.07247433, ..., -0.00259226,\n",
       "        -0.02364456,  0.06105391],\n",
       "       [-0.00914709,  0.05068012, -0.03099563, ..., -0.00259226,\n",
       "         0.00620932,  0.02791705]])"
      ]
     },
     "execution_count": 12,
     "metadata": {},
     "output_type": "execute_result"
    }
   ],
   "source": []
  },
  {
   "cell_type": "code",
   "execution_count": 4,
   "metadata": {},
   "outputs": [],
   "source": [
    "x = np.genfromtxt(\"C:\\\\Users\\\\karan\\\\Downloads\\\\0000000000002329_test_diabetes_x_test.csv\", delimiter = \",\")"
   ]
  },
  {
   "cell_type": "code",
   "execution_count": 5,
   "metadata": {},
   "outputs": [
    {
     "data": {
      "text/plain": [
       "LinearRegression(copy_X=True, fit_intercept=True, n_jobs=None,\n",
       "         normalize=False)"
      ]
     },
     "execution_count": 5,
     "metadata": {},
     "output_type": "execute_result"
    }
   ],
   "source": [
    "clf = LinearRegression()\n",
    "clf.fit(dX, dY)"
   ]
  },
  {
   "cell_type": "code",
   "execution_count": 8,
   "metadata": {},
   "outputs": [],
   "source": [
    "y = clf.predict(x)\n",
    "np.savetxt(\"C:\\\\Users\\\\karan\\\\Downloads\\\\fileLR.csv\", y, fmt = '%1.5f')"
   ]
  }
 ],
 "metadata": {
  "kernelspec": {
   "display_name": "Python 3",
   "language": "python",
   "name": "python3"
  },
  "language_info": {
   "codemirror_mode": {
    "name": "ipython",
    "version": 3
   },
   "file_extension": ".py",
   "mimetype": "text/x-python",
   "name": "python",
   "nbconvert_exporter": "python",
   "pygments_lexer": "ipython3",
   "version": "3.6.8"
  }
 },
 "nbformat": 4,
 "nbformat_minor": 2
}
